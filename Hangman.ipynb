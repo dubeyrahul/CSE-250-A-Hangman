{
 "cells": [
  {
   "cell_type": "markdown",
   "metadata": {
    "collapsed": true
   },
   "source": [
    "# Project Description:\n",
    "\n",
    "## CSE 250 A: Artificial Intelligence - Probabilistic Reasoning and Decision Making;  \n",
    "\n",
    "\n",
    "### HW 1 Project:\n",
    "Imagine a game in which you are asked to guess the word w one letter at a time. The rules of this game\n",
    "are as follows: \n",
    "\n",
    "After each letter (A through Z) that you guess, you’ll be told whether the letter appears in\n",
    "the word and also where it appears. Given the evidence that you have at any stage in this game, the critical\n",
    "question is what letter to guess next. Solve this question using Bayesian network.\n",
    "\n",
    "Basically, design a game to solve Hangman."
   ]
  },
  {
   "cell_type": "markdown",
   "metadata": {},
   "source": [
    "## Import packages"
   ]
  },
  {
   "cell_type": "code",
   "execution_count": 66,
   "metadata": {
    "collapsed": true
   },
   "outputs": [],
   "source": [
    "import pandas as pd\n",
    "import numpy as np\n",
    "from __future__ import division"
   ]
  },
  {
   "cell_type": "markdown",
   "metadata": {},
   "source": [
    "## Read file to take input"
   ]
  },
  {
   "cell_type": "code",
   "execution_count": 67,
   "metadata": {
    "collapsed": false
   },
   "outputs": [
    {
     "name": "stdout",
     "output_type": "stream",
     "text": [
      "Number of words in the dictionary: 6535\n"
     ]
    }
   ],
   "source": [
    "data = pd.read_csv('hw1_word_counts_05.txt', sep=\" \", header = None)\n",
    "data.columns = [\"word\", \"count\"]\n",
    "# print data.head(10)\n",
    "number_of_words = data.shape[0]\n",
    "print \"Number of words in the dictionary: %d\" %(number_of_words)"
   ]
  },
  {
   "cell_type": "markdown",
   "metadata": {},
   "source": [
    "## Sort the dataframe and print most-frequent, least-frequent words"
   ]
  },
  {
   "cell_type": "code",
   "execution_count": 68,
   "metadata": {
    "collapsed": false
   },
   "outputs": [
    {
     "name": "stdout",
     "output_type": "stream",
     "text": [
      "15 most frequent words are as follows:\n",
      "--------------------\n",
      "  word   count\n",
      " THREE  273077\n",
      " SEVEN  178842\n",
      " EIGHT  165764\n",
      " WOULD  159875\n",
      " ABOUT  157448\n",
      " THEIR  145434\n",
      " WHICH  142146\n",
      " AFTER  110102\n",
      " FIRST  109957\n",
      " FIFTY  106869\n",
      " OTHER  106052\n",
      " FORTY   94951\n",
      " YEARS   88900\n",
      " THERE   86502\n",
      " SIXTY   73086\n",
      "--------------------\n",
      "\n",
      "14 least frequent words are as follows:\n",
      "--------------------\n",
      "  word  count\n",
      " BOSAK      6\n",
      " CAIXA      6\n",
      " MAPCO      6\n",
      " OTTIS      6\n",
      " TROUP      6\n",
      " CCAIR      7\n",
      " CLEFT      7\n",
      " FABRI      7\n",
      " FOAMY      7\n",
      " NIAID      7\n",
      " PAXON      7\n",
      " SERNA      7\n",
      " TOCOR      7\n",
      " YALOM      7\n",
      "--------------------\n"
     ]
    }
   ],
   "source": [
    "data = data.sort_values(\"count\", ascending=False)\n",
    "print \"15 most frequent words are as follows:\"\n",
    "print \"-\"*20\n",
    "print data.head(15).to_string(index = False)\n",
    "print \"-\"*20+\"\\n\"\n",
    "print \"14 least frequent words are as follows:\"\n",
    "print \"-\"*20\n",
    "print data.tail(14).sort_values([\"count\",\"word\"]).to_string(index = False)\n",
    "print \"-\"*20"
   ]
  },
  {
   "cell_type": "markdown",
   "metadata": {},
   "source": [
    "## Calculate prior probability of each word"
   ]
  },
  {
   "cell_type": "code",
   "execution_count": 69,
   "metadata": {
    "collapsed": false
   },
   "outputs": [
    {
     "name": "stdout",
     "output_type": "stream",
     "text": [
      "7664857\n",
      "       word   count  prob_of_word\n",
      "5821  THREE  273077      0.035627\n",
      "5102  SEVEN  178842      0.023333\n",
      "1684  EIGHT  165764      0.021626\n",
      "6403  WOULD  159875      0.020858\n",
      "18    ABOUT  157448      0.020542\n"
     ]
    }
   ],
   "source": [
    "prob_of_word = []\n",
    "total_count = data[\"count\"].sum()\n",
    "print total_count\n",
    "for row in data[\"count\"]:\n",
    "    prob_of_word.append(row/total_count)\n",
    "data['prob_of_word'] = prob_of_word\n",
    "print data.head(5)"
   ]
  },
  {
   "cell_type": "code",
   "execution_count": null,
   "metadata": {
    "collapsed": true
   },
   "outputs": [],
   "source": []
  }
 ],
 "metadata": {
  "kernelspec": {
   "display_name": "Python 2",
   "language": "python",
   "name": "python2"
  },
  "language_info": {
   "codemirror_mode": {
    "name": "ipython",
    "version": 2
   },
   "file_extension": ".py",
   "mimetype": "text/x-python",
   "name": "python",
   "nbconvert_exporter": "python",
   "pygments_lexer": "ipython2",
   "version": "2.7.11"
  }
 },
 "nbformat": 4,
 "nbformat_minor": 0
}
